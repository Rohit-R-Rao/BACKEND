{
 "cells": [
  {
   "cell_type": "code",
   "execution_count": null,
   "metadata": {},
   "outputs": [],
   "source": [
    "#Setup:\n",
    "#!pip install django\n",
    "#!pip install djangorestframework"
   ]
  },
  {
   "cell_type": "code",
   "execution_count": 19,
   "metadata": {},
   "outputs": [],
   "source": [
    "\n",
    "import requests\n",
    "\n",
    "# Define the API endpoint\n",
    "url = 'http://127.0.0.1:8000/interact/'\n",
    "\n",
    "# Define query parameters\n",
    "params = {\n",
    "    'symbol': 'yo',\n",
    "    'prediction_length': 30\n",
    "}\n"
   ]
  },
  {
   "cell_type": "code",
   "execution_count": 20,
   "metadata": {},
   "outputs": [
    {
     "name": "stdout",
     "output_type": "stream",
     "text": [
      "GET Success: {'message': 'Received GET request with symbol: yo and prediction_length: 30. Returning Inference Response...'}\n"
     ]
    }
   ],
   "source": [
    "\n",
    "# Make a GET request with the parameters\n",
    "response = requests.get(url, params=params)\n",
    "\n",
    "# Print the response\n",
    "if response.status_code == 200:\n",
    "    print(\"GET Success:\", response.json())\n",
    "else:\n",
    "    print(\"GET Failed:\", response.status_code)\n"
   ]
  },
  {
   "cell_type": "code",
   "execution_count": 21,
   "metadata": {},
   "outputs": [
    {
     "name": "stdout",
     "output_type": "stream",
     "text": [
      "POST Success: {'message': 'Received POST request with symbol: yo and prediction_length: 30'}\n"
     ]
    }
   ],
   "source": [
    "# Make a POST request with the data\n",
    "response = requests.post(url, json=params)\n",
    "\n",
    "# Print the response\n",
    "if response.status_code == 200:\n",
    "    print(\"POST Success:\", response.json())\n",
    "else:\n",
    "    print(\"POST Failed:\", response.status_code)"
   ]
  },
  {
   "cell_type": "code",
   "execution_count": null,
   "metadata": {},
   "outputs": [],
   "source": []
  }
 ],
 "metadata": {
  "kernelspec": {
   "display_name": "stockformer",
   "language": "python",
   "name": "python3"
  },
  "language_info": {
   "codemirror_mode": {
    "name": "ipython",
    "version": 3
   },
   "file_extension": ".py",
   "mimetype": "text/x-python",
   "name": "python",
   "nbconvert_exporter": "python",
   "pygments_lexer": "ipython3",
   "version": "3.10.14"
  }
 },
 "nbformat": 4,
 "nbformat_minor": 2
}
